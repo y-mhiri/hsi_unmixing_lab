{
 "cells": [
  {
   "cell_type": "markdown",
   "metadata": {},
   "source": [
    "# Lab Exercise 2: Unconstrained Least Squares Unmixing\n",
    "\n",
    "## Objectives\n",
    "- Implement the analytical solution for unconstrained least squares\n",
    "- Apply it to hyperspectral data\n",
    "- Evaluate reconstruction quality\n",
    "- Understand limitations of unconstrained approach"
   ]
  },
  {
   "cell_type": "code",
   "execution_count": null,
   "metadata": {},
   "outputs": [],
   "source": [
    "import numpy as np\n",
    "import matplotlib.pyplot as plt\n",
    "import sys\n",
    "sys.path.append('../src')\n",
    "\n",
    "from data_loader import HyperspectralDataLoader\n",
    "from visualization import HSIVisualizer\n",
    "from optimization import HyperspectralUnmixer\n",
    "from metrics import UnmixingEvaluator\n",
    "\n",
    "%matplotlib inline"
   ]
  },
  {
   "cell_type": "markdown",
   "metadata": {},
   "source": [
    "## Task 1: Load Data and Endmembers\n",
    "\n",
    "Load the previously processed data and endmembers."
   ]
  },
  {
   "cell_type": "code",
   "execution_count": null,
   "metadata": {},
   "outputs": [],
   "source": [
    "# Load data\n",
    "loader = HyperspectralDataLoader(\"../data/\")\n",
    "hsi_data, ground_truth = loader.load_pavia()\n",
    "Y, _ = loader.vectorize_data()\n",
    "\n",
    "# Load endmembers from previous exercise\n",
    "try:\n",
    "    S = np.load('../data/extracted_endmembers.npy')\n",
    "    endmember_names = np.load('../data/endmember_names.npy', allow_pickle=True)\n",
    "    print(f\"Loaded endmembers: {S.shape}\")\n",
    "    print(f\"Endmember names: {list(endmember_names)}\")\n",
    "except FileNotFoundError:\n",
    "    print(\"Endmembers not found. Re-extracting...\")\n",
    "    S, endmember_names = loader.extract_class_spectra([1, 2, 3])\n",
    "\n",
    "print(f\"Data matrix Y shape: {Y.shape}\")\n",
    "print(f\"Endmember matrix S shape: {S.shape}\")"
   ]
  },
  {
   "cell_type": "markdown",
   "metadata": {},
   "source": [
    "## Task 2: Implement Unconstrained Least Squares\n",
    "\n",
    "**Mathematical Background:**\n",
    "\n",
    "The unconstrained least squares problem is:\n",
    "$$\\min_{\\mathbf{A}} \\|\\mathbf{S}\\mathbf{A} - \\mathbf{Y}\\|_F^2$$\n",
    "\n",
    "The analytical solution is:\n",
    "$$\\mathbf{A}^* = (\\mathbf{S}^T\\mathbf{S})^{-1}\\mathbf{S}^T\\mathbf{Y}$$"
   ]
  },
  {
   "cell_type": "code",
   "execution_count": null,
   "metadata": {},
   "outputs": [],
   "source": [
    "def unconstrained_least_squares_manual(S, Y):\n",
    "    \"\"\"\n",
    "    Manual implementation of unconstrained least squares.\n",
    "    \n",
    "    TODO: Implement the analytical solution\n",
    "    \"\"\"\n",
    "    # Step 1: Compute S^T S\n",
    "    StS = S.T@S\n",
    "    \n",
    "    # Step 2: Compute S^T Y  \n",
    "    StY = S.T@Y\n",
    "    \n",
    "    # Step 3: Solve (S^T S) A = S^T Y\n",
    "    try:\n",
    "        A = np.linalg.solve(StS,StY) # YOUR CODE HERE (use np.linalg.solve)\n",
    "    except np.linalg.LinAlgError:\n",
    "        print(\"Warning: Using pseudo-inverse due to singular matrix\")\n",
    "        A = np.linalg.pinv(StS) @ StY# YOUR CODE HERE (use np.linalg.pinv)\n",
    "    \n",
    "    return A\n",
    "\n",
    "# Test your implementation\n",
    "A_manual = unconstrained_least_squares_manual(S, Y)\n",
    "print(f\"Abundance matrix shape: {A_manual.shape}\")"
   ]
  },
  {
   "cell_type": "markdown",
   "metadata": {},
   "source": [
    "## Task 3: Compare with Library Implementation\n",
    "\n",
    "Compare your manual implementation with the provided class method."
   ]
  },
  {
   "cell_type": "code",
   "execution_count": null,
   "metadata": {},
   "outputs": [],
   "source": [
    "# Use the provided implementation\n",
    "unmixer = HyperspectralUnmixer()\n",
    "A_library = unmixer.unconstrained_least_squares(S, Y)\n",
    "\n",
    "# Compare results\n",
    "difference = np.max(np.abs(A_manual - A_library))\n",
    "print(f\"Maximum difference between implementations: {difference:.2e}\")\n",
    "\n",
    "if difference < 1e-10:\n",
    "    print(\"✓ Implementations match!\")\n",
    "else:\n",
    "    print(\"✗ Implementations differ - check your code\")"
   ]
  },
  {
   "cell_type": "markdown",
   "metadata": {},
   "source": [
    "## Task 4: Analyze Abundance Properties\n",
    "\n",
    "Examine the properties of the unconstrained abundances."
   ]
  },
  {
   "cell_type": "code",
   "execution_count": null,
   "metadata": {},
   "outputs": [],
   "source": [
    "# TODO: Analyze abundance statistics\n",
    "evaluator = UnmixingEvaluator()\n",
    "abundance_stats = evaluator.evaluate_abundances(A_manual)\n",
    "\n",
    "print(\"Abundance Statistics:\")\n",
    "for key, value in abundance_stats.items():\n",
    "    print(f\"  {key}: {value:.6f}\")\n",
    "\n",
    "# Check for physical violations\n",
    "print(f\"\\nPhysical Constraint Analysis:\")\n",
    "print(f\"  Minimum abundance: {np.min(A_library):.4f}\")\n",
    "print(f\"  Maximum abundance: {np.max(A_library):.4f}\")\n",
    "print(f\"  Fraction of negative values: {abundance_stats['fraction_negative']:.4f}\")\n",
    "\n",
    "# Check sum-to-one constraint\n",
    "abundance_sums = np.sum(A_library, axis=0)\n",
    "print(f\"  Mean sum of abundances: {np.mean(abundance_sums):.4f}\")\n",
    "print(f\"  Std of abundance sums: {np.std(abundance_sums):.4f}\")"
   ]
  },
  {
   "cell_type": "markdown",
   "metadata": {},
   "source": [
    "## Task 5: Visualize Results\n",
    "\n",
    "Create visualizations to understand the unmixing results."
   ]
  },
  {
   "cell_type": "code",
   "execution_count": null,
   "metadata": {},
   "outputs": [],
   "source": [
    "# TODO: Plot abundance maps\n",
    "visualizer = HSIVisualizer()\n",
    "height, width = hsi_data.shape[:2]\n",
    "\n",
    "# YOUR CODE HERE to plot abundance maps\n",
    "visualizer.plot_abundance_maps(A_manual, ground_truth, [height, width], endmember_names, cmap='viridis')\n",
    "# YOUR CODE HERE"
   ]
  },
  {
   "cell_type": "markdown",
   "metadata": {},
   "source": [
    "## Task 6: Evaluate Reconstruction Quality\n",
    "\n",
    "Compute reconstruction metrics to assess unmixing quality."
   ]
  },
  {
   "cell_type": "code",
   "execution_count": null,
   "metadata": {},
   "outputs": [],
   "source": [
    "# TODO: Evaluate reconstruction\n",
    "rgb_bands = loader.get_rgb_bands()\n",
    "results = evaluator.evaluate_reconstruction(S,A_manual, Y, [height, width])\n",
    "\n",
    "print(\"Reconstruction Quality Metrics:\")\n",
    "print(f\"  Mean SAM (degrees): {results['mean_sam_degrees']:.4f}\")\n",
    "print(f\"  RMSE: {results['rmse']:.6f}\")\n",
    "if 'ssim_mean' in results:\n",
    "    print(f\"  Mean SSIM: {results['ssim_mean']:.4f}\")\n",
    "print(f\"  SNR (dB): {results['snr_db']:.2f}\")"
   ]
  },
  {
   "cell_type": "markdown",
   "metadata": {},
   "source": [
    "## Task 7: Visualize Reconstruction\n",
    "\n",
    "Compare original and reconstructed RGB composites."
   ]
  },
  {
   "cell_type": "code",
   "execution_count": null,
   "metadata": {},
   "outputs": [],
   "source": [
    "# TODO: Reconstruct hyperspectral data\n",
    "Y_reconstructed = S@A_manual\n",
    "hsi_reconstructed = Y_reconstructed.T.reshape(height, width, -1)\n",
    "\n",
    "# TODO: Plot comparison\n",
    "# YOUR CODE HERE\n",
    "visualizer.plot_reconstruction_comparison(hsi_data, hsi_reconstructed, rgb_bands)"
   ]
  },
  {
   "cell_type": "code",
   "execution_count": null,
   "metadata": {},
   "outputs": [],
   "source": [
    "# Save results for comparison in next notebook\n",
    "np.save('../data/unconstrained_abundances.npy', A_library)\n",
    "print(\"Results saved for comparison!\")"
   ]
  }
 ],
 "metadata": {
  "kernelspec": {
   "display_name": ".venv",
   "language": "python",
   "name": "python3"
  },
  "language_info": {
   "codemirror_mode": {
    "name": "ipython",
    "version": 3
   },
   "file_extension": ".py",
   "mimetype": "text/x-python",
   "name": "python",
   "nbconvert_exporter": "python",
   "pygments_lexer": "ipython3",
   "version": "3.10.17"
  }
 },
 "nbformat": 4,
 "nbformat_minor": 2
}
