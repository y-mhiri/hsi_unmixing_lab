{
 "cells": [
  {
   "cell_type": "markdown",
   "metadata": {},
   "source": [
    "# Lab Exercise 2: Unconstrained Least Squares Unmixing\n",
    "\n",
    "## Objectives\n",
    "- Implement the analytical solution for unconstrained least squares\n",
    "- Apply it to hyperspectral data\n",
    "- Evaluate reconstruction quality\n",
    "- Understand limitations of unconstrained approach"
   ]
  },
  {
   "cell_type": "code",
   "execution_count": null,
   "metadata": {},
   "outputs": [],
   "source": [
    "import numpy as np\n",
    "import matplotlib.pyplot as plt\n",
    "import sys\n",
    "sys.path.append('../src')\n",
    "\n",
    "from data_loader import HyperspectralDataLoader\n",
    "from visualization import HSIVisualizer\n",
    "from optimization import HyperspectralUnmixer\n",
    "from metrics import UnmixingEvaluator\n",
    "\n",
    "%matplotlib inline"
   ]
  },
  {
   "cell_type": "markdown",
   "metadata": {},
   "source": [
    "## Task 1: Load Data and Endmembers\n",
    "\n",
    "Load the previously processed data and endmembers."
   ]
  },
  {
   "cell_type": "code",
   "execution_count": null,
   "metadata": {},
   "outputs": [],
   "source": [
    "# Load data\n",
    "loader = HyperspectralDataLoader(\"../data/\")\n",
    "hsi_data, ground_truth = loader.load_indian_pines()\n",
    "Y, _ = loader.vectorize_data()\n",
    "\n",
    "# Load endmembers from previous exercise\n",
    "try:\n",
    "    S = np.load('../data/extracted_endmembers.npy')\n",
    "    endmember_names = np.load('../data/endmember_names.npy', allow_pickle=True)\n",
    "    print(f\"Loaded endmembers: {S.shape}\")\n",
    "    print(f\"Endmember names: {list(endmember_names)}\")\n",
    "except FileNotFoundError:\n",
    "    print(\"Endmembers not found. Re-extracting...\")\n",
    "    S, endmember_names = loader.extract_class_spectra([1, 2, 3])\n",
    "\n",
    "print(f\"Data matrix Y shape: {Y.shape}\")\n",
    "print(f\"Endmember matrix S shape: {S.shape}\")"
   ]
  },
  {
   "cell_type": "markdown",
   "metadata": {},
   "source": [
    "## Task 2: Implement Unconstrained Least Squares\n",
    "\n",
    "**Mathematical Background:**\n",
    "\n",
    "The unconstrained least squares problem is:\n",
    "$$\\min_{\\mathbf{A}} \\|\\mathbf{S}\\mathbf{A} - \\mathbf{Y}\\|_F^2$$\n",
    "\n",
    "The analytical solution is:\n",
    "$$\\mathbf{A}^* = (\\mathbf{S}^T\\mathbf{S})^{-1}\\mathbf{S}^T\\mathbf{Y}$$"
   ]
  },
  {
   "cell_type": "code",
   "execution_count": null,
   "metadata": {},
   "outputs": [],
   "source": [
    "def unconstrained_least_squares_manual(S, Y):\n",
    "    \"\"\"\n",
    "    Manual implementation of unconstrained least squares.\n",
    "    \n",
    "    TODO: Implement the analytical solution\n",
    "    \"\"\"\n",
    "    # Step 1: Compute S^T S\n",
    "    StS = # YOUR CODE HERE\n",
    "    \n",
    "    # Step 2: Compute S^T Y  \n",
    "    StY = # YOUR CODE HERE\n",
    "    \n",
    "    # Step 3: Solve (S^T S) A = S^T Y\n",
    "    try:\n",
    "        A = # YOUR CODE HERE (use np.linalg.solve)\n",
    "    except np.linalg.LinAlgError:\n",
    "        print(\"Warning: Using pseudo-inverse due to singular matrix\")\n",
    "        A = # YOUR CODE HERE (use np.linalg.pinv)\n",
    "    \n",
    "    return A\n",
    "\n",
    "# Test your implementation\n",
    "A_manual = unconstrained_least_squares_manual(S, Y)\n",
    "print(f\"Abundance matrix shape: {A_manual.shape}\")"
   ]
  },
  {
   "cell_type": "markdown",
   "metadata": {},
   "source": [
    "## Task 3: Compare with Library Implementation\n",
    "\n",
    "Compare your manual implementation with the provided class method."
   ]
  },
  {
   "cell_type": "code",
   "execution_count": null,
   "metadata": {},
   "outputs": [],
   "source": [
    "# Use the provided implementation\n",
    "unmixer = HyperspectralUnmixer()\n",
    "A_library = unmixer.unconstrained_least_squares(S, Y)\n",
    "\n",
    "# Compare results\n",
    "difference = np.max(np.abs(A_manual - A_library))\n",
    "print(f\"Maximum difference between implementations: {difference:.2e}\")\n",
    "\n",
    "if difference < 1e-10:\n",
    "    print(\"✓ Implementations match!\")\n",
    "else:\n",
    "    print(\"✗ Implementations differ - check your code\")"
   ]
  },
  {
   "cell_type": "markdown",
   "metadata": {},
   "source": [
    "## Task 4: Analyze Abundance Properties\n",
    "\n",
    "Examine the properties of the unconstrained abundances."
   ]
  },
  {
   "cell_type": "code",
   "execution_count": null,
   "metadata": {},
   "outputs": [],
   "source": [
    "# TODO: Analyze abundance statistics\n",
    "evaluator = UnmixingEvaluator()\n",
    "abundance_stats = # YOUR CODE HERE\n",
    "\n",
    "print(\"Abundance Statistics:\")\n",
    "for key, value in abundance_stats.items():\n",
    "    print(f\"  {key}: {value:.6f}\")\n",
    "\n",
    "# Check for physical violations\n",
    "print(f\"\\nPhysical Constraint Analysis:\")\n",
    "print(f\"  Minimum abundance: {np.min(A_library):.4f}\")\n",
    "print(f\"  Maximum abundance: {np.max(A_library):.4f}\")\n",
    "print(f\"  Fraction of negative values: {abundance_stats['fraction_negative']:.4f}\")\n",
    "\n",
    "# Check sum-to-one constraint\n",
    "abundance_sums = np.sum(A_library, axis=0)\n",
    "print(f\"  Mean sum of abundances: {np.mean(abundance_sums):.4f}\")\n",
    "print(f\"  Std of abundance sums: {np.std(abundance_sums):.4f}\")"
   ]
  },
  {
   "cell_type": "markdown",
   "metadata": {},
   "source": [
    "## Task 5: Visualize Results\n",
    "\n",
    "Create visualizations to understand the unmixing results."
   ]
  },
  {
   "cell_type": "code",
   "execution_count": null,
   "metadata": {},
   "outputs": [],
   "source": [
    "# TODO: Plot abundance maps\n",
    "visualizer = HSIVisualizer()\n",
    "height, width = hsi_data.shape[:2]\n",
    "\n",
    "# YOUR CODE HERE to plot abundance maps\n",
    "\n",
    "# TODO: Plot abundance statistics\n",
    "# YOUR CODE HERE"
   ]
  },
  {
   "cell_type": "markdown",
   "metadata": {},
   "source": [
    "## Task 6: Evaluate Reconstruction Quality\n",
    "\n",
    "Compute reconstruction metrics to assess unmixing quality."
   ]
  },
  {
   "cell_type": "code",
   "execution_count": null,
   "metadata": {},
   "outputs": [],
   "source": [
    "# TODO: Evaluate reconstruction\n",
    "rgb_bands = loader.get_rgb_bands()\n",
    "results = # YOUR CODE HERE\n",
    "\n",
    "print(\"Reconstruction Quality Metrics:\")\n",
    "print(f\"  Mean SAM (degrees): {results['mean_sam_degrees']:.4f}\")\n",
    "print(f\"  RMSE: {results['rmse']:.6f}\")\n",
    "if 'ssim_mean' in results:\n",
    "    print(f\"  Mean SSIM: {results['ssim_mean']:.4f}\")\n",
    "print(f\"  SNR (dB): {results['snr_db']:.2f}\")"
   ]
  },
  {
   "cell_type": "markdown",
   "metadata": {},
   "source": [
    "## Task 7: Visualize Reconstruction\n",
    "\n",
    "Compare original and reconstructed RGB composites."
   ]
  },
  {
   "cell_type": "code",
   "execution_count": null,
   "metadata": {},
   "outputs": [],
   "source": [
    "# TODO: Reconstruct hyperspectral data\n",
    "Y_reconstructed = # YOUR CODE HERE\n",
    "hsi_reconstructed = Y_reconstructed.T.reshape(height, width, -1)\n",
    "\n",
    "# TODO: Plot comparison\n",
    "# YOUR CODE HERE"
   ]
  },
  {
   "cell_type": "markdown",
   "metadata": {},
   "source": [
    "## Task 8: Test with Synthetic Data\n",
    "\n",
    "Validate the algorithm with synthetic data where ground truth is known."
   ]
  },
  {
   "cell_type": "code",
   "execution_count": null,
   "metadata": {},
   "outputs": [],
   "source": [
    "from data_loader import create_synthetic_data\n",
    "\n",
    "# Create synthetic data\n",
    "hsi_synthetic, S_true, A_true = create_synthetic_data(\n",
    "    height=30, width=30, bands=50, num_endmembers=3, noise_level=0.05)\n",
    "\n",
    "Y_synthetic = hsi_synthetic.reshape(-1, hsi_synthetic.shape[2]).T\n",
    "\n",
    "# TODO: Apply unconstrained unmixing\n",
    "A_estimated = # YOUR CODE HERE\n",
    "\n",
    "# TODO: Compute abundance angle distance\n",
    "aad = # YOUR CODE HERE\n",
    "\n",
    "print(f\"Synthetic Data Test:\")\n",
    "print(f\"  Abundance Angle Distance: {np.degrees(aad):.4f}°\")\n",
    "print(f\"  Reconstruction RMSE: {np.sqrt(np.mean((S_true @ A_estimated - Y_synthetic)**2)):.6f}\")\n",
    "\n",
    "# Visualize true vs estimated abundances\n",
    "fig, axes = plt.subplots(2, 3, figsize=(15, 10))\n",
    "\n",
    "for i in range(3):\n",
    "    # True abundances\n",
    "    axes[0, i].imshow(A_true[i, :].reshape(30, 30), cmap='hot', vmin=0, vmax=1)\n",
    "    axes[0, i].set_title(f'True EM{i+1}')\n",
    "    axes[0, i].axis('off')\n",
    "    \n",
    "    # Estimated abundances\n",
    "    axes[1, i].imshow(A_estimated[i, :].reshape(30, 30), cmap='hot')\n",
    "    axes[1, i].set_title(f'Estimated EM{i+1}')\n",
    "    axes[1, i].axis('off')\n",
    "\n",
    "plt.tight_layout()\n",
    "plt.show()"
   ]
  },
  {
   "cell_type": "markdown",
   "metadata": {},
   "source": [
    "## Reflection Questions\n",
    "\n",
    "1. **What problems do you observe with the unconstrained abundances?**\n",
    "\n",
    "   *Your answer here*\n",
    "\n",
    "2. **Why are negative abundances physically meaningless?**\n",
    "\n",
    "   *Your answer here*\n",
    "\n",
    "3. **Why is the sum-to-one constraint important for abundance interpretation?**\n",
    "\n",
    "   *Your answer here*\n",
    "\n",
    "4. **How does noise affect the unconstrained solution?**\n",
    "\n",
    "   *Your answer here*"
   ]
  },
  {
   "cell_type": "code",
   "execution_count": null,
   "metadata": {},
   "outputs": [],
   "source": [
    "# Save results for comparison in next notebook\n",
    "np.save('../data/unconstrained_abundances.npy', A_library)\n",
    "print(\"Results saved for comparison!\")"
   ]
  }
 ],
 "metadata": {
  "kernelspec": {
   "display_name": "Python 3",
   "language": "python",
   "name": "python3"
  },
  "language_info": {
   "codemirror_mode": {
    "name": "ipython",
    "version": 3
   },
   "file_extension": ".py",
   "name": "python",
   "nbconvert_exporter": "python",
   "pygments_lexer": "ipython3",
   "version": "3.8.0"
  }
 },
 "nbformat": 4,
 "nbformat_minor": 2
}
