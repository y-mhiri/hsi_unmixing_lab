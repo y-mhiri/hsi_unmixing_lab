{
 "cells": [
  {
   "cell_type": "markdown",
   "metadata": {},
   "source": [
    "# Lab Exercise 1: Data Exploration and Hyperspectral Images\n",
    "\n",
    "## Objectives\n",
    "- Load and explore the Indian Pines hyperspectral dataset\n",
    "- Understand hyperspectral data structure\n",
    "- Visualize different spectral bands\n",
    "- Extract endmember spectra from ground truth"
   ]
  },
  {
   "cell_type": "code",
   "execution_count": null,
   "metadata": {},
   "outputs": [],
   "source": [
    "import numpy as np\n",
    "import matplotlib.pyplot as plt\n",
    "import sys\n",
    "import os\n",
    "\n",
    "# Add src to path\n",
    "sys.path.append('../src')\n",
    "\n",
    "from data_loader import HyperspectralDataLoader\n",
    "from visualization import HSIVisualizer\n",
    "\n",
    "# Set style\n",
    "plt.style.use('seaborn-v0_8')\n",
    "%matplotlib inline"
   ]
  },
  {
   "cell_type": "markdown",
   "metadata": {},
   "source": [
    "## Task 1: Load the Indian Pines Dataset\n",
    "\n",
    "Use the `loadmat` function from scipy to load the hyperspectral data."
   ]
  },
  {
   "cell_type": "code",
   "execution_count": null,
   "metadata": {},
   "outputs": [],
   "source": [
    "# TODO: Initialize the data loader and load the Indian Pines dataset\n",
    "data_path = \"../data/\"\n",
    "loader = # YOUR CODE HERE\n",
    "\n",
    "# Load the data\n",
    "hsi_data, ground_truth = # YOUR CODE HERE\n",
    "\n",
    "print(f\"HSI data shape: {hsi_data.shape}\")\n",
    "print(f\"Ground truth shape: {ground_truth.shape}\")"
   ]
  },
  {
   "cell_type": "markdown",
   "metadata": {},
   "source": [
    "## Task 2: Analyze Dataset Properties\n",
    "\n",
    "**Questions:**\n",
    "1. What is the size of the image?\n",
    "2. How many spectral bands does the image contain?\n",
    "3. How many classes are present in the ground truth?"
   ]
  },
  {
   "cell_type": "code",
   "execution_count": null,
   "metadata": {},
   "outputs": [],
   "source": [
    "# TODO: Get dataset information\n",
    "info = # YOUR CODE HERE\n",
    "\n",
    "print(\"Dataset Information:\")\n",
    "for key, value in info.items():\n",
    "    print(f\"  {key}: {value}\")\n",
    "\n",
    "# TODO: Find unique classes in ground truth\n",
    "unique_classes = # YOUR CODE HERE\n",
    "print(f\"\\nUnique classes: {unique_classes}\")"
   ]
  },
  {
   "cell_type": "markdown",
   "metadata": {},
   "source": [
    "## Task 3: Visualize Band Images\n",
    "\n",
    "Display a few band images at different wavelengths to understand spectral variations."
   ]
  },
  {
   "cell_type": "code",
   "execution_count": null,
   "metadata": {},
   "outputs": [],
   "source": [
    "# TODO: Create visualizer and plot band images\n",
    "visualizer = # YOUR CODE HERE\n",
    "\n",
    "# Select bands from different spectral regions\n",
    "band_indices = [10, 50, 100, 150]  # Adjust based on your data\n",
    "band_names = [\"Blue\", \"Green\", \"Red\", \"NIR\"]\n",
    "\n",
    "# YOUR CODE HERE to plot band images"
   ]
  },
  {
   "cell_type": "markdown",
   "metadata": {},
   "source": [
    "## Task 4: Create RGB Composite\n",
    "\n",
    "Create and display an RGB composite image."
   ]
  },
  {
   "cell_type": "code",
   "execution_count": null,
   "metadata": {},
   "outputs": [],
   "source": [
    "# TODO: Get RGB band indices and create composite\n",
    "rgb_bands = # YOUR CODE HERE\n",
    "print(f\"RGB bands: {rgb_bands}\")\n",
    "\n",
    "# YOUR CODE HERE to plot RGB composite"
   ]
  },
  {
   "cell_type": "markdown",
   "metadata": {},
   "source": [
    "## Task 5: Display Ground Truth Map\n",
    "\n",
    "Visualize the ground truth classification map with class labels."
   ]
  },
  {
   "cell_type": "code",
   "execution_count": null,
   "metadata": {},
   "outputs": [],
   "source": [
    "# TODO: Plot ground truth with class names\n",
    "# YOUR CODE HERE"
   ]
  },
  {
   "cell_type": "markdown",
   "metadata": {},
   "source": [
    "## Task 6: Extract and Plot Class Spectra\n",
    "\n",
    "Extract mean spectra for the first three classes and plot them."
   ]
  },
  {
   "cell_type": "code",
   "execution_count": null,
   "metadata": {},
   "outputs": [],
   "source": [
    "# TODO: Extract endmember spectra for classes 1, 2, 3\n",
    "class_indices = [1, 2, 3]\n",
    "S, class_names = # YOUR CODE HERE\n",
    "\n",
    "print(f\"Extracted endmembers shape: {S.shape}\")\n",
    "print(f\"Class names: {class_names}\")\n",
    "\n",
    "# TODO: Plot the spectra\n",
    "# YOUR CODE HERE"
   ]
  },
  {
   "cell_type": "markdown",
   "metadata": {},
   "source": [
    "## Reflection Questions\n",
    "\n",
    "1. **What differences do you observe between the spectral signatures of different classes?**\n",
    "\n",
    "   *Your answer here*\n",
    "\n",
    "2. **Why might different materials have distinct spectral signatures?**\n",
    "\n",
    "   *Your answer here*\n",
    "\n",
    "3. **How could these spectral differences be useful for classification?**\n",
    "\n",
    "   *Your answer here*"
   ]
  },
  {
   "cell_type": "code",
   "execution_count": null,
   "metadata": {},
   "outputs": [],
   "source": [
    "# Save the extracted endmembers for use in later notebooks\n",
    "np.save('../data/extracted_endmembers.npy', S)\n",
    "np.save('../data/endmember_names.npy', class_names)\n",
    "print(\"Endmembers saved for later use!\")"
   ]
  }
 ],
 "metadata": {
  "kernelspec": {
   "display_name": "Python 3",
   "language": "python",
   "name": "python3"
  },
  "language_info": {
   "codemirror_mode": {
    "name": "ipython",
    "version": 3
   },
   "file_extension": ".py",
   "name": "python",
   "nbconvert_exporter": "python",
   "pygments_lexer": "ipython3",
   "version": "3.8.0"
  }
 },
 "nbformat": 4,
 "nbformat_minor": 2
}
